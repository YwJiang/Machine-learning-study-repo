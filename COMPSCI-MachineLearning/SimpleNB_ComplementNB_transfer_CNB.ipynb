{
 "cells": [
  {
   "cell_type": "code",
   "execution_count": 1,
   "metadata": {},
   "outputs": [
    {
     "name": "stderr",
     "output_type": "stream",
     "text": [
      "D:\\anaconda3\\lib\\site-packages\\gensim\\utils.py:1197: UserWarning: detected Windows; aliasing chunkize to chunkize_serial\n",
      "  warnings.warn(\"detected Windows; aliasing chunkize to chunkize_serial\")\n"
     ]
    }
   ],
   "source": [
    "#import packages\n",
    "import pickle\n",
    "import sklearn\n",
    "from sklearn.model_selection import train_test_split\n",
    "import pandas as pd\n",
    "import nltk\n",
    "import numpy as np\n",
    "from nltk.corpus import stopwords\n",
    "from string import punctuation\n",
    "from gensim import corpora\n",
    "from collections import Counter\n",
    "from langdetect import detect_langs\n",
    "import collections\n",
    "import math"
   ]
  },
  {
   "cell_type": "markdown",
   "metadata": {},
   "source": [
    "## Import data, clean data, and transfer to list of words"
   ]
  },
  {
   "cell_type": "code",
   "execution_count": 2,
   "metadata": {},
   "outputs": [],
   "source": [
    "data = pd.read_csv('../data/trg.csv', header=0,index_col=0)\n",
    "new_data = pd.read_csv('../data/tst.csv', header=0,index_col=0)"
   ]
  },
  {
   "cell_type": "code",
   "execution_count": 3,
   "metadata": {},
   "outputs": [],
   "source": [
    "def preprocess(df):\n",
    "    \n",
    "    # token and split into list of words\n",
    "    df_tokens = []\n",
    "    for i in range(len(df.abstract.values)):\n",
    "        df_tokens.append(nltk.word_tokenize(df.abstract.values[i]))\n",
    "        \n",
    "    # delete stopwords\n",
    "    df_token_stopwords = []\n",
    "    for i in range(len(df.abstract.values)):\n",
    "        df_token_stopwords.append([w for w in df_tokens[i] if w not in stopwords.words('english')])\n",
    "    df['clean'] = df_token_stopwords\n",
    "    \n",
    "    return df\n"
   ]
  },
  {
   "cell_type": "code",
   "execution_count": 4,
   "metadata": {},
   "outputs": [],
   "source": [
    "df = preprocess(data)\n",
    "new_df = preprocess(new_data)"
   ]
  },
  {
   "cell_type": "markdown",
   "metadata": {},
   "source": [
    "## Split to train, test data"
   ]
  },
  {
   "cell_type": "code",
   "execution_count": 5,
   "metadata": {},
   "outputs": [],
   "source": [
    "X, y = df,df['class']\n",
    "X_train, X_test, y_train, y_test = train_test_split(X, y, test_size=0.2, random_state=0)\n"
   ]
  },
  {
   "cell_type": "markdown",
   "metadata": {},
   "source": [
    "## Define an accuracy caculator"
   ]
  },
  {
   "cell_type": "code",
   "execution_count": 6,
   "metadata": {},
   "outputs": [],
   "source": [
    "def cal_accuracy(test, real):\n",
    "    return np.mean([test[i] == real[i] for i in range(len(real))])"
   ]
  },
  {
   "cell_type": "markdown",
   "metadata": {},
   "source": [
    "## Simple Naive Bayes Implement\n"
   ]
  },
  {
   "cell_type": "code",
   "execution_count": 7,
   "metadata": {},
   "outputs": [],
   "source": [
    "class NaiveBayes():\n",
    "    \n",
    "    def __init__(self, df, new_df):\n",
    "        self.df = df\n",
    "        self.new_df = new_df\n",
    "        self.instances_num = df.shape[0]\n",
    "        self.J = 0\n",
    "\n",
    "        \n",
    "    def count_attributes(self):\n",
    "        \"\"\"\n",
    "        count all words in df\n",
    "        input: df with clean column\n",
    "        output: cnt dictionary of word list\n",
    "        \"\"\"\n",
    "        cnt = collections.Counter()\n",
    "        for word in self.df['clean'].values:\n",
    "            for i in word:\n",
    "                cnt[i] += 1\n",
    "        self.count_attributes = cnt\n",
    "        \n",
    "\n",
    " \n",
    "    def count_class(self):\n",
    "        \"\"\"\n",
    "        count the number of class labels\n",
    "        input: df with class\n",
    "        output: cnt dictionary of label\n",
    "        \"\"\"\n",
    "        cnt2 = collections.Counter()\n",
    "        for i in self.df['class'].values:\n",
    "            cnt2[i] += 1\n",
    "        self.count_class = dict(cnt2)\n",
    "\n",
    "\n",
    "    def count_prior(self):\n",
    "        \"\"\"\n",
    "        count the frequency of words in each class, return a dictionary(four class) of dictionary(words and freqeuncy)\n",
    "        input: df with class and clean column\n",
    "        output: list with four lists each for a class\n",
    "        \"\"\"\n",
    "        result_list = {}\n",
    "        cnt_A = collections.Counter()\n",
    "        cnt_B = collections.Counter()\n",
    "        cnt_V = collections.Counter()\n",
    "        cnt_E = collections.Counter()\n",
    "        for i in range(len(self.df['class'].values)):\n",
    "            if self.df['class'].values[i] == 'A':\n",
    "                for i in self.df['clean'].values[i]:\n",
    "                    cnt_A[i] += 1\n",
    "            elif self.df['class'].values[i] == 'B':\n",
    "                for i in self.df['clean'].values[i]:\n",
    "                    cnt_B[i] += 1\n",
    "            elif self.df['class'].values[i] == 'E':\n",
    "                for i in self.df['clean'].values[i]:\n",
    "                    cnt_E[i] += 1\n",
    "            elif self.df['class'].values[i] == 'V':\n",
    "                for i in self.df['clean'].values[i]:\n",
    "                    cnt_V[i] += 1\n",
    "        result_list['A'] = cnt_A\n",
    "        result_list['B'] = cnt_B\n",
    "        result_list['E'] = cnt_E\n",
    "        result_list['V'] = cnt_V\n",
    "\n",
    "        self.count_prior =  result_list\n",
    "    \n",
    "   \n",
    "    def count_class_attributes(self):\n",
    "        \"\"\"\n",
    "        count how many words in class[A|B|E|V]\n",
    "        input:\n",
    "        output: list of class and number of list\n",
    "        \"\"\"\n",
    "        class_attributes = {}\n",
    "        for i in ['A','B','V','E']:\n",
    "            class_attributes[i] = sum(self.count_prior[i].values())\n",
    "            self.J += len(self.count_prior[i].keys())\n",
    "        self.count_class_attributes = class_attributes\n",
    "        self.total_num_words = sum(self.count_class_attributes.values())\n",
    "    \n",
    "\n",
    "        \n",
    "    def predict_naive(self, mu):\n",
    "        \"\"\"\n",
    "        predict lables, without im\n",
    "        input: df with classes, clean\n",
    "        output: df with predict label\n",
    "        \"\"\"\n",
    "\n",
    "        prob = {}\n",
    "        result = []\n",
    "        for i in range(len(self.new_df['abstract'])):\n",
    "            a, b, e, v = 0, 0, 0, 0\n",
    "            for j in self.new_df['clean'].values[i]:\n",
    "                a += math.log(self.count_prior['A'][j]+mu)-math.log(self.count_class_attributes['A']+mu*self.J)                                                                                                                                                                                                                                                         # 分子\n",
    "                b += math.log(self.count_prior['B'][j]+mu)-math.log(self.count_class_attributes['B']+mu*self.J) \n",
    "                e += math.log(self.count_prior['E'][j]+mu)-math.log(self.count_class_attributes['E']+mu*self.J) \n",
    "                v += math.log(self.count_prior['V'][j]+mu)-math.log(self.count_class_attributes['V']+mu*self.J) \n",
    "            prob['A'] = (a)+math.log(self.count_class['A']) \n",
    "            prob['B'] = (b)+math.log(self.count_class['B'])\n",
    "            prob['E'] = (e)+math.log(self.count_class['E']) \n",
    "            prob['V'] = (v)+math.log(self.count_class['V']) \n",
    "            result.append(max(prob,key=prob.get)) # get the index of max value in the dic\n",
    "        self.predict_label = result\n"
   ]
  },
  {
   "cell_type": "code",
   "execution_count": 8,
   "metadata": {},
   "outputs": [
    {
     "name": "stdout",
     "output_type": "stream",
     "text": [
      "NB accuracy is:  0.96625\n"
     ]
    }
   ],
   "source": [
    "nb = NaiveBayes(X_train, X_test)\n",
    "nb.count_attributes()\n",
    "nb.count_class()\n",
    "nb.count_prior()\n",
    "nb.count_class_attributes()\n",
    "nb.predict_naive(1)\n",
    "print(\"NB accuracy is: \",cal_accuracy(nb.predict_label, y_test.values))\n"
   ]
  },
  {
   "cell_type": "markdown",
   "metadata": {},
   "source": [
    "## Complement Naive Bayes"
   ]
  },
  {
   "cell_type": "code",
   "execution_count": 9,
   "metadata": {},
   "outputs": [],
   "source": [
    "class Complement_NaiveBayes():\n",
    "    \n",
    "    def __init__(self, df, new_df):\n",
    "        self.df = df\n",
    "        self.new_df = new_df\n",
    "        self.instances_num = df.shape[0]\n",
    "        self.J = 0\n",
    "\n",
    "        \n",
    "    def count_attributes(self):\n",
    "        \"\"\"\n",
    "        count all words in df\n",
    "        input: df with clean column\n",
    "        output: cnt dictionary of word list\n",
    "        \"\"\"\n",
    "        cnt = collections.Counter()\n",
    "        for word in self.df['clean'].values:\n",
    "            for i in word:\n",
    "                cnt[i] += 1\n",
    "        self.count_attributes = cnt\n",
    "        \n",
    "\n",
    " \n",
    "    def count_class(self):\n",
    "        \"\"\"\n",
    "        count the number of class labels\n",
    "        input: df with class\n",
    "        output: cnt dictionary of label\n",
    "        \"\"\"\n",
    "        cnt2 = collections.Counter()\n",
    "        for i in self.df['class'].values:\n",
    "            cnt2[i] += 1\n",
    "        self.count_class = dict(cnt2)\n",
    "\n",
    "\n",
    "    def count_prior(self):\n",
    "        \"\"\"\n",
    "        count the frequency of words in each class, return a dictionary(four class) of dictionary(words and freqeuncy)\n",
    "        input: df with class and clean column\n",
    "        output: list with four lists each for a class\n",
    "        \"\"\"\n",
    "        result_list = {}\n",
    "        cnt_A = collections.Counter()\n",
    "        cnt_B = collections.Counter()\n",
    "        cnt_V = collections.Counter()\n",
    "        cnt_E = collections.Counter()\n",
    "        for i in range(len(self.df['class'].values)):\n",
    "            if self.df['class'].values[i] == 'A':\n",
    "                for i in self.df['clean'].values[i]:\n",
    "                    cnt_A[i] += 1\n",
    "            elif self.df['class'].values[i] == 'B':\n",
    "                for i in self.df['clean'].values[i]:\n",
    "                    cnt_B[i] += 1\n",
    "            elif self.df['class'].values[i] == 'E':\n",
    "                for i in self.df['clean'].values[i]:\n",
    "                    cnt_E[i] += 1\n",
    "            elif self.df['class'].values[i] == 'V':\n",
    "                for i in self.df['clean'].values[i]:\n",
    "                    cnt_V[i] += 1\n",
    "        result_list['A'] = cnt_A\n",
    "        result_list['B'] = cnt_B\n",
    "        result_list['E'] = cnt_E\n",
    "        result_list['V'] = cnt_V\n",
    "        self.count_prior =  result_list\n",
    "    \n",
    "   \n",
    "    def count_class_attributes(self):\n",
    "        \"\"\"\n",
    "        count how many words in class[A|B|E|V]\n",
    "        input:\n",
    "        output: list of class and number of list\n",
    "        \"\"\"\n",
    "        class_attributes = {}\n",
    "        for i in ['A','B','V','E']:\n",
    "            class_attributes[i] = sum(self.count_prior[i].values())\n",
    "            self.J += len(self.count_prior[i].keys())\n",
    "        self.count_class_attributes = class_attributes\n",
    "        self.total_num_words = sum(self.count_class_attributes.values())\n",
    "\n",
    "        \n",
    "        \n",
    "    def predict_complement_naive(self,mu):\n",
    "        \"\"\"\n",
    "        predict the posterior probability based on complement naive bayes\n",
    "        output: a list of predicting labels\n",
    "        \"\"\"\n",
    "        prob2 = {}\n",
    "        result2 = []\n",
    "        for i in range(len(self.new_df['abstract'])):\n",
    "            a2, b2, e2, v2 = 0, 0, 0, 0\n",
    "            for j in self.new_df['clean'].values[i]:\n",
    "                a2 -= math.log(self.count_attributes[j]-self.count_prior['A'][j]+mu) - math.log(self.total_num_words-self.count_class_attributes['A']+mu*self.J)                                                                                                                                                                                                                                                         # 分子\n",
    "                b2 -= math.log(self.count_attributes[j]-self.count_prior['B'][j]+mu) - math.log(self.total_num_words-self.count_class_attributes['B']+mu*self.J) # 分子\n",
    "                e2 -= math.log(self.count_attributes[j]-self.count_prior['E'][j]+mu) - math.log(self.total_num_words-self.count_class_attributes['E']+mu*self.J) # 分子\n",
    "                v2 -= math.log(self.count_attributes[j]-self.count_prior['V'][j]+mu) - math.log(self.total_num_words-self.count_class_attributes['V']+mu*self.J) # 分子\n",
    "            prob2['A'] = (a2)+math.log(self.count_class['A']) \n",
    "            prob2['B'] = (b2)+math.log(self.count_class['B']) \n",
    "            prob2['E'] = (e2)+math.log(self.count_class['E']) \n",
    "            prob2['V'] = (v2)+math.log(self.count_class['V']) \n",
    "            result2.append(max(prob2,key=prob2.get))\n",
    "        self.predict_label_cnb = result2\n",
    "  \n"
   ]
  },
  {
   "cell_type": "code",
   "execution_count": 10,
   "metadata": {},
   "outputs": [
    {
     "name": "stdout",
     "output_type": "stream",
     "text": [
      "NB accuracy is:  0.9725\n"
     ]
    }
   ],
   "source": [
    "cnb = Complement_NaiveBayes(X_train, X_test)\n",
    "cnb.count_attributes()\n",
    "cnb.count_class()\n",
    "cnb.count_prior()\n",
    "cnb.count_class_attributes()\n",
    "cnb.predict_complement_naive(1)\n",
    "print(\"NB accuracy is: \",cal_accuracy(cnb.predict_label_cnb, y_test.values))\n"
   ]
  },
  {
   "attachments": {
    "image.png": {
     "image/png": "[encoded data removed]"
    }
   },
   "cell_type": "markdown",
   "metadata": {},
   "source": [
    "## Transfer count data by document frequency\n",
    "Most of the structure is same as the naive Bayes. What I have done here is just transfer the count of word, which is based on the document frequency to reduce the noise data, from 1 to  ![image.png](attachment:image.png)"
   ]
  },
  {
   "cell_type": "code",
   "execution_count": 11,
   "metadata": {},
   "outputs": [],
   "source": [
    "class Transfer_Complement_NaiveBayes():\n",
    "    \n",
    "    def __init__(self, df, new_df):\n",
    "        self.df = df\n",
    "        self.new_df = new_df\n",
    "        self.instances_num = df.shape[0]\n",
    "        self.J = 0\n",
    "        \n",
    "    def transfer_docfre_count_(self):\n",
    "        \"\"\"\n",
    "        count all words in df\n",
    "        input: df with clean column\n",
    "        output: cnt dictionary of word list\n",
    "        \"\"\"\n",
    "        cnt = collections.Counter()\n",
    "        for word in self.df['clean'].values:\n",
    "            for i in word:\n",
    "                cnt[i] += 1\n",
    "        \n",
    "        cnt3 = collections.Counter()\n",
    "        for words in self.df['clean'].values:\n",
    "            for i in cnt.keys():\n",
    "                if i in words:\n",
    "                    cnt3[i]+=1\n",
    "        self.count_attributes_docfre = cnt3\n",
    "        \n",
    "        cnt4 = collections.Counter()\n",
    "        for word in self.df['clean'].values:\n",
    "            for i in word:\n",
    "                cnt4[i] += 1*math.log(self.instances_num/self.count_attributes_docfre[i]) # instead of add 1 every time meet a word, add another weight\n",
    "        self.count_attributes = cnt4\n",
    "        \n",
    "\n",
    " \n",
    "    def count_class(self):\n",
    "        \"\"\"\n",
    "        count the number of class labels\n",
    "        input: df with class\n",
    "        output: cnt dictionary of label\n",
    "        \"\"\"\n",
    "        cnt2 = collections.Counter()\n",
    "        for i in self.df['class'].values:\n",
    "            cnt2[i] += 1\n",
    "        self.count_class = dict(cnt2)\n",
    "\n",
    "\n",
    "    def count_prior(self):\n",
    "        \"\"\"\n",
    "        count the frequency of words in each class, return a dictionary(four class) of dictionary(words and freqeuncy)\n",
    "        input: df with class and clean column\n",
    "        output: list with four lists each for a class\n",
    "        \"\"\"\n",
    "        result_list = {}\n",
    "        cnt_A = collections.Counter()\n",
    "        cnt_B = collections.Counter()\n",
    "        cnt_V = collections.Counter()\n",
    "        cnt_E = collections.Counter()\n",
    "        for i in range(len(self.df['class'].values)):\n",
    "            if self.df['class'].values[i] == 'A':\n",
    "                for i in self.df['clean'].values[i]:\n",
    "                    cnt_A[i] += 1*math.log(self.instances_num/self.count_attributes_docfre[i])\n",
    "            elif self.df['class'].values[i] == 'B':\n",
    "                for i in self.df['clean'].values[i]:\n",
    "                    cnt_B[i] += 1*math.log(self.instances_num/self.count_attributes_docfre[i])\n",
    "            elif self.df['class'].values[i] == 'E':\n",
    "                for i in self.df['clean'].values[i]:\n",
    "                    cnt_E[i] += 1*math.log(self.instances_num/self.count_attributes_docfre[i])\n",
    "            elif self.df['class'].values[i] == 'V':\n",
    "                for i in self.df['clean'].values[i]:\n",
    "                    cnt_V[i] += 1*math.log(self.instances_num/self.count_attributes_docfre[i])\n",
    "        result_list['A'] = cnt_A\n",
    "        result_list['B'] = cnt_B\n",
    "        result_list['E'] = cnt_E\n",
    "        result_list['V'] = cnt_V\n",
    "\n",
    "        self.count_prior =  result_list\n",
    "    \n",
    "   \n",
    "    def count_class_attributes(self):\n",
    "        \"\"\"\n",
    "        count how many words in class[A|B|E|V]\n",
    "        input:\n",
    "        output: list of class and number of list\n",
    "        \"\"\"\n",
    "        class_attributes = {}\n",
    "        for i in ['A','B','V','E']:\n",
    "            class_attributes[i] = sum(self.count_prior[i].values())\n",
    "            self.J += len(self.count_prior[i].keys())\n",
    "        self.count_class_attributes = class_attributes\n",
    "        self.total_num_words = sum(self.count_class_attributes.values())\n",
    "    \n",
    "\n",
    "        \n",
    "    def predict_complement_naive(self,mu):\n",
    "        \"\"\"\n",
    "        predict the posterior probability based on complement naive bayes\n",
    "        output: a list of predicting labels\n",
    "        \"\"\"\n",
    "        prob2 = {}\n",
    "        result2 = []\n",
    "        for i in range(len(self.new_df['abstract'])):\n",
    "            a2, b2, e2, v2 = 0, 0, 0, 0\n",
    "            for j in self.new_df['clean'].values[i]:\n",
    "                a2 -= math.log(self.count_attributes[j]-self.count_prior['A'][j]+mu) - math.log(self.total_num_words-self.count_class_attributes['A']+mu*self.J)                                                                                                                                                                                                                                                         # 分子\n",
    "                b2 -= math.log(self.count_attributes[j]-self.count_prior['B'][j]+mu) - math.log(self.total_num_words-self.count_class_attributes['B']+mu*self.J) \n",
    "                e2 -= math.log(self.count_attributes[j]-self.count_prior['E'][j]+mu) - math.log(self.total_num_words-self.count_class_attributes['E']+mu*self.J) \n",
    "                v2 -= math.log(self.count_attributes[j]-self.count_prior['V'][j]+mu) - math.log(self.total_num_words-self.count_class_attributes['V']+mu*self.J) \n",
    "            prob2['A'] = (a2)+math.log(self.count_class['A']) \n",
    "            prob2['B'] = (b2)+math.log(self.count_class['B']) \n",
    "            prob2['E'] = (e2)+math.log(self.count_class['E']) \n",
    "            prob2['V'] = (v2)+math.log(self.count_class['V']) \n",
    "            result2.append(max(prob2,key=prob2.get))\n",
    "        self.predict_label_cnb = result2\n",
    "       "
   ]
  },
  {
   "cell_type": "code",
   "execution_count": 12,
   "metadata": {},
   "outputs": [
    {
     "name": "stdout",
     "output_type": "stream",
     "text": [
      "TCNB accuracy is:  0.9825\n"
     ]
    }
   ],
   "source": [
    "tcnb = Transfer_Complement_NaiveBayes(X_train, X_test)\n",
    "tcnb.transfer_docfre_count_()\n",
    "\n",
    "tcnb.count_class()\n",
    "tcnb.count_prior()\n",
    "tcnb.count_class_attributes()\n",
    "tcnb.predict_complement_naive(1)\n",
    "print(\"TCNB accuracy is: \",cal_accuracy(tcnb.predict_label_cnb, y_test.values))\n"
   ]
  },
  {
   "cell_type": "markdown",
   "metadata": {},
   "source": [
    "## Transform by the length of the doc"
   ]
  },
  {
   "cell_type": "code",
   "execution_count": 60,
   "metadata": {},
   "outputs": [],
   "source": [
    "class Transfer_2nd_Complement_NaiveBayes():\n",
    "    \n",
    "    def __init__(self, df, new_df):\n",
    "        self.df = df\n",
    "        self.new_df = new_df\n",
    "        self.instances_num = df.shape[0]\n",
    "        self.J = 0\n",
    "        \n",
    "    def transfer_2nd_docfre_count_(self):\n",
    "        \"\"\"\n",
    "        count all words in df\n",
    "        input: df with clean column\n",
    "        output: cnt dictionary of word list\n",
    "        \"\"\"\n",
    "        cnt = collections.Counter()\n",
    "        for word in self.df['clean'].values:\n",
    "            for i in word:\n",
    "                cnt[i] += 1\n",
    "                \n",
    "                \n",
    "        cnt3 = collections.Counter()\n",
    "        for words in self.df['clean'].values:\n",
    "            for i in cnt.keys():\n",
    "                if i in words:\n",
    "                    cnt3[i]+=1\n",
    "        self.count_attributes_docfre = cnt3\n",
    "        \n",
    "        cnt5 = collections.Counter()\n",
    "        cnt6 = collections.Counter()\n",
    "        for words in self.df['clean'].values:\n",
    "            for i in words:\n",
    "                cnt5[i]+=1\n",
    "            print(cnt5,type(cnt5),list(cnt5.values()),type(list(cnt5.values())))\n",
    "            cnt6[words] = math.sqrt(sum((np.array(list(cnt5.values())))**2))\n",
    "            cnt5 = collections.Counter()\n",
    "        self.cnt5 = cnt5\n",
    "        self.count_attributes_doclen = cnt6\n",
    "        \n",
    "        cnt4 = collections.Counter()\n",
    "        for word in self.df['clean'].values:\n",
    "            for i in word:\n",
    "                cnt4[i] += 1*math.log(self.instances_num/self.count_attributes_docfre[i])/count_attributes_doclen[words] # instead of add 1 every time meet a word, add another weight\n",
    "        self.count_attributes = cnt4\n",
    "        \n",
    "\n",
    " \n",
    "    def count_class(self):\n",
    "        \"\"\"\n",
    "        count the number of class labels\n",
    "        input: df with class\n",
    "        output: cnt dictionary of label\n",
    "        \"\"\"\n",
    "        cnt2 = collections.Counter()\n",
    "        for i in self.df['class'].values:\n",
    "            cnt2[i] += 1\n",
    "        self.count_class = dict(cnt2)\n",
    "\n",
    "\n",
    "    def count_prior(self):\n",
    "        \"\"\"\n",
    "        count the frequency of words in each class, return a dictionary(four class) of dictionary(words and freqeuncy)\n",
    "        input: df with class and clean column\n",
    "        output: list with four lists each for a class\n",
    "        \"\"\"\n",
    "        result_list = {}\n",
    "        cnt_A = collections.Counter()\n",
    "        cnt_B = collections.Counter()\n",
    "        cnt_V = collections.Counter()\n",
    "        cnt_E = collections.Counter()\n",
    "        for i in range(len(self.df['class'].values)):\n",
    "            if self.df['class'].values[i] == 'A':\n",
    "                for i in self.df['clean'].values[i]:\n",
    "                    cnt_A[i] += 1*math.log(self.instances_num/self.count_attributes_docfre[i])\n",
    "            elif self.df['class'].values[i] == 'B':\n",
    "                for i in self.df['clean'].values[i]:\n",
    "                    cnt_B[i] += 1*math.log(self.instances_num/self.count_attributes_docfre[i])\n",
    "            elif self.df['class'].values[i] == 'E':\n",
    "                for i in self.df['clean'].values[i]:\n",
    "                    cnt_E[i] += 1*math.log(self.instances_num/self.count_attributes_docfre[i])\n",
    "            elif self.df['class'].values[i] == 'V':\n",
    "                for i in self.df['clean'].values[i]:\n",
    "                    cnt_V[i] += 1*math.log(self.instances_num/self.count_attributes_docfre[i])\n",
    "        result_list['A'] = cnt_A\n",
    "        result_list['B'] = cnt_B\n",
    "        result_list['E'] = cnt_E\n",
    "        result_list['V'] = cnt_V\n",
    "\n",
    "        self.count_prior =  result_list\n",
    "    \n",
    "   \n",
    "    def count_class_attributes(self):\n",
    "        \"\"\"\n",
    "        count how many words in class[A|B|E|V]\n",
    "        input:\n",
    "        output: list of class and number of list\n",
    "        \"\"\"\n",
    "        class_attributes = {}\n",
    "        for i in ['A','B','V','E']:\n",
    "            class_attributes[i] = sum(self.count_prior[i].values())\n",
    "            self.J += len(self.count_prior[i].keys())\n",
    "        self.count_class_attributes = class_attributes\n",
    "        self.total_num_words = sum(self.count_class_attributes.values())\n",
    "    \n",
    "\n",
    "        \n",
    "    def predict_complement_naive(self,mu):\n",
    "        \"\"\"\n",
    "        predict the posterior probability based on complement naive bayes\n",
    "        output: a list of predicting labels\n",
    "        \"\"\"\n",
    "        prob2 = {}\n",
    "        result2 = []\n",
    "        for i in range(len(self.new_df['abstract'])):\n",
    "            a2, b2, e2, v2 = 0, 0, 0, 0\n",
    "            for j in self.new_df['clean'].values[i]:\n",
    "                a2 -= math.log(self.count_attributes[j]-self.count_prior['A'][j]+mu) - math.log(self.total_num_words-self.count_class_attributes['A']+mu*self.J)                                                                                                                                                                                                                                                         # 分子\n",
    "                b2 -= math.log(self.count_attributes[j]-self.count_prior['B'][j]+mu) - math.log(self.total_num_words-self.count_class_attributes['B']+mu*self.J) \n",
    "                e2 -= math.log(self.count_attributes[j]-self.count_prior['E'][j]+mu) - math.log(self.total_num_words-self.count_class_attributes['E']+mu*self.J) \n",
    "                v2 -= math.log(self.count_attributes[j]-self.count_prior['V'][j]+mu) - math.log(self.total_num_words-self.count_class_attributes['V']+mu*self.J) \n",
    "            prob2['A'] = (a2)+math.log(self.count_class['A']) \n",
    "            prob2['B'] = (b2)+math.log(self.count_class['B']) \n",
    "            prob2['E'] = (e2)+math.log(self.count_class['E']) \n",
    "            prob2['V'] = (v2)+math.log(self.count_class['V']) \n",
    "            result2.append(max(prob2,key=prob2.get))\n",
    "        self.predict_label_cnb = result2\n",
    "       "
   ]
  },
  {
   "cell_type": "code",
   "execution_count": 61,
   "metadata": {},
   "outputs": [
    {
     "name": "stdout",
     "output_type": "stream",
     "text": [
      "Counter({'genome': 5, 'c-125': 4, 'halodurans': 3, 'cdss': 3, 'bacillus': 2, 'contains': 2, 'protein': 2, 'sequences': 2, 'conserved': 2, 'function': 2, 'match': 2, 'proteins': 2, 'found': 2, 'bsubtilis': 2, 'b': 2, 'genes': 2, 'role': 2, 'competence': 2, 'tupa': 2, '4': 1, '202': 1, '353': 1, 'bp': 1, 'alkaliphilic': 1, 'bacterium': 1, '4066': 1, 'predicted': 1, 'coding': 1, '2141': 1, '527': 1, 'functional': 1, 'assignments': 1, '1182': 1, '29': 1, 'unknown': 1, '743': 1, '18': 1, '3': 1, 'database': 1, 'among': 1, 'total': 1, '88': 1, 'subtilis': 1, '667': 1, 'widely': 1, 'comparison': 1, 'various': 1, 'organisms': 1, 'including': 1, '112': 1, 'transposase': 1, 'indicating': 1, 'transposases': 1, 'played': 1, 'important': 1, 'evolutionary': 1, 'horizontal': 1, 'gene': 1, 'transfer': 1, 'also': 1, 'internal': 1, 'genetic': 1, 'rearrangement': 1, 'strain': 1, 'lacks': 1, 'necessary': 1, 'coms': 1, 'srfa': 1, 'rapc': 1, 'supporting': 1, 'fact': 1, 'demonstrated': 1, 'experimentally': 1, 'paralog': 1, 'encoding': 1, 'teichuronopeptide': 1, 'contributes': 1, 'alkaliphily': 1, 'ortholog': 1, '11': 1, 'sigma': 1, 'factors': 1, 'belong': 1, 'extracytoplasmic': 1, 'family': 1, '10': 1, 'unique': 1, 'suggesting': 1, 'may': 1, 'special': 1, 'mechanism': 1, 'adaptation': 1, 'alkaline': 1, 'environment': 1}) <class 'collections.Counter'> [1, 1, 1, 1, 5, 1, 1, 2, 3, 4, 2, 1, 1, 2, 1, 2, 3, 1, 1, 1, 1, 1, 1, 2, 1, 2, 1, 1, 1, 2, 1, 1, 1, 1, 2, 2, 1, 1, 1, 1, 1, 1, 1, 2, 2, 1, 1, 2, 1, 1, 1, 1, 1, 2, 1, 1, 1, 1, 1, 1, 1, 1, 1, 1, 2, 1, 1, 1, 1, 1, 1, 1, 1, 2, 1, 1, 1, 1, 1, 1, 1, 1, 1, 1, 1, 1, 1, 1, 1, 1, 1, 1, 1, 1] <class 'list'>\n"
     ]
    },
    {
     "ename": "TypeError",
     "evalue": "unhashable type: 'list'",
     "output_type": "error",
     "traceback": [
      "\u001b[1;31m---------------------------------------------------------------------------\u001b[0m",
      "\u001b[1;31mTypeError\u001b[0m                                 Traceback (most recent call last)",
      "\u001b[1;32m<ipython-input-61-ac13e4848716>\u001b[0m in \u001b[0;36m<module>\u001b[1;34m()\u001b[0m\n\u001b[0;32m      1\u001b[0m \u001b[0mnb\u001b[0m \u001b[1;33m=\u001b[0m \u001b[0mTransfer_2nd_Complement_NaiveBayes\u001b[0m\u001b[1;33m(\u001b[0m\u001b[0mX\u001b[0m\u001b[1;33m,\u001b[0m \u001b[0mX\u001b[0m\u001b[1;33m)\u001b[0m\u001b[1;33m\u001b[0m\u001b[0m\n\u001b[1;32m----> 2\u001b[1;33m \u001b[0mnb\u001b[0m\u001b[1;33m.\u001b[0m\u001b[0mtransfer_2nd_docfre_count_\u001b[0m\u001b[1;33m(\u001b[0m\u001b[1;33m)\u001b[0m\u001b[1;33m\u001b[0m\u001b[0m\n\u001b[0m\u001b[0;32m      3\u001b[0m '''\n\u001b[0;32m      4\u001b[0m \u001b[0mnb\u001b[0m\u001b[1;33m.\u001b[0m\u001b[0mcount_class\u001b[0m\u001b[1;33m(\u001b[0m\u001b[1;33m)\u001b[0m\u001b[1;33m\u001b[0m\u001b[0m\n\u001b[0;32m      5\u001b[0m \u001b[0mnb\u001b[0m\u001b[1;33m.\u001b[0m\u001b[0mcount_prior\u001b[0m\u001b[1;33m(\u001b[0m\u001b[1;33m)\u001b[0m\u001b[1;33m\u001b[0m\u001b[0m\n",
      "\u001b[1;32m<ipython-input-60-c19f664617b3>\u001b[0m in \u001b[0;36mtransfer_2nd_docfre_count_\u001b[1;34m(self)\u001b[0m\n\u001b[0;32m     32\u001b[0m                 \u001b[0mcnt5\u001b[0m\u001b[1;33m[\u001b[0m\u001b[0mi\u001b[0m\u001b[1;33m]\u001b[0m\u001b[1;33m+=\u001b[0m\u001b[1;36m1\u001b[0m\u001b[1;33m\u001b[0m\u001b[0m\n\u001b[0;32m     33\u001b[0m             \u001b[0mprint\u001b[0m\u001b[1;33m(\u001b[0m\u001b[0mcnt5\u001b[0m\u001b[1;33m,\u001b[0m\u001b[0mtype\u001b[0m\u001b[1;33m(\u001b[0m\u001b[0mcnt5\u001b[0m\u001b[1;33m)\u001b[0m\u001b[1;33m,\u001b[0m\u001b[0mlist\u001b[0m\u001b[1;33m(\u001b[0m\u001b[0mcnt5\u001b[0m\u001b[1;33m.\u001b[0m\u001b[0mvalues\u001b[0m\u001b[1;33m(\u001b[0m\u001b[1;33m)\u001b[0m\u001b[1;33m)\u001b[0m\u001b[1;33m,\u001b[0m\u001b[0mtype\u001b[0m\u001b[1;33m(\u001b[0m\u001b[0mlist\u001b[0m\u001b[1;33m(\u001b[0m\u001b[0mcnt5\u001b[0m\u001b[1;33m.\u001b[0m\u001b[0mvalues\u001b[0m\u001b[1;33m(\u001b[0m\u001b[1;33m)\u001b[0m\u001b[1;33m)\u001b[0m\u001b[1;33m)\u001b[0m\u001b[1;33m)\u001b[0m\u001b[1;33m\u001b[0m\u001b[0m\n\u001b[1;32m---> 34\u001b[1;33m             \u001b[0mcnt6\u001b[0m\u001b[1;33m[\u001b[0m\u001b[0mwords\u001b[0m\u001b[1;33m]\u001b[0m \u001b[1;33m=\u001b[0m \u001b[0mmath\u001b[0m\u001b[1;33m.\u001b[0m\u001b[0msqrt\u001b[0m\u001b[1;33m(\u001b[0m\u001b[0msum\u001b[0m\u001b[1;33m(\u001b[0m\u001b[1;33m(\u001b[0m\u001b[0mnp\u001b[0m\u001b[1;33m.\u001b[0m\u001b[0marray\u001b[0m\u001b[1;33m(\u001b[0m\u001b[0mlist\u001b[0m\u001b[1;33m(\u001b[0m\u001b[0mcnt5\u001b[0m\u001b[1;33m.\u001b[0m\u001b[0mvalues\u001b[0m\u001b[1;33m(\u001b[0m\u001b[1;33m)\u001b[0m\u001b[1;33m)\u001b[0m\u001b[1;33m)\u001b[0m\u001b[1;33m)\u001b[0m\u001b[1;33m**\u001b[0m\u001b[1;36m2\u001b[0m\u001b[1;33m)\u001b[0m\u001b[1;33m)\u001b[0m\u001b[1;33m\u001b[0m\u001b[0m\n\u001b[0m\u001b[0;32m     35\u001b[0m             \u001b[0mcnt5\u001b[0m \u001b[1;33m=\u001b[0m \u001b[0mcollections\u001b[0m\u001b[1;33m.\u001b[0m\u001b[0mCounter\u001b[0m\u001b[1;33m(\u001b[0m\u001b[1;33m)\u001b[0m\u001b[1;33m\u001b[0m\u001b[0m\n\u001b[0;32m     36\u001b[0m         \u001b[0mself\u001b[0m\u001b[1;33m.\u001b[0m\u001b[0mcnt5\u001b[0m \u001b[1;33m=\u001b[0m \u001b[0mcnt5\u001b[0m\u001b[1;33m\u001b[0m\u001b[0m\n",
      "\u001b[1;31mTypeError\u001b[0m: unhashable type: 'list'"
     ]
    }
   ],
   "source": [
    "nb = Transfer_2nd_Complement_NaiveBayes(X, X)\n",
    "nb.transfer_2nd_docfre_count_()\n",
    "'''\n",
    "nb.count_class()\n",
    "nb.count_prior()\n",
    "nb.count_class_attributes()\n",
    "nb.predict_naive(1)\n",
    "print(\"NB accuracy is: \",cal_accuracy(nb.predict_label, y_test.values))\n",
    "'''"
   ]
  },
  {
   "cell_type": "markdown",
   "metadata": {},
   "source": [
    "## Ten cross-validation"
   ]
  },
  {
   "cell_type": "markdown",
   "metadata": {},
   "source": [
    "#### NB"
   ]
  },
  {
   "cell_type": "code",
   "execution_count": 13,
   "metadata": {},
   "outputs": [],
   "source": [
    "def ten_CV_nb(df, split_size= 0.3, num_times = 10, num_folds=10):\n",
    "    X, y = df,df['class']\n",
    "    nb_res_list = []\n",
    "    random_seeds = [int(x) for x in np.random.uniform(0, 10000, num_times)]\n",
    "    for i in random_seeds:\n",
    "        X_train, X_test, y_train, y_test = train_test_split(X, y, test_size=split_size, random_state=i)\n",
    "        nb = NaiveBayes(X_train, X_test)\n",
    "        nb.count_attributes()\n",
    "        nb.count_class()\n",
    "        nb.count_prior()\n",
    "        nb.count_class_attributes()\n",
    "        nb.predict_naive(1)\n",
    "        nb_res_list.append(cal_accuracy(nb.predict_label, y_test.values))\n",
    "    return np.mean(nb_res_list), np.var(nb_res_list)\n",
    "        "
   ]
  },
  {
   "cell_type": "code",
   "execution_count": 14,
   "metadata": {},
   "outputs": [
    {
     "name": "stdout",
     "output_type": "stream",
     "text": [
      "The accuracy of Simple NB is 0.9443333333333334 and the variance is 4.427777777777777e-05\n"
     ]
    }
   ],
   "source": [
    "print('The accuracy of Simple NB is %s and the variance is %s'%ten_CV_nb(df))"
   ]
  },
  {
   "cell_type": "markdown",
   "metadata": {},
   "source": [
    "#### CNB"
   ]
  },
  {
   "cell_type": "code",
   "execution_count": 15,
   "metadata": {},
   "outputs": [],
   "source": [
    "def ten_CV_cnb(df, split_size= 0.3, num_times = 10, num_folds=10):\n",
    "    X, y = df,df['class']\n",
    "    cnb_res_list = []\n",
    "    random_seeds = [int(x) for x in np.random.uniform(0, 10000, num_times)]\n",
    "    for i in random_seeds:\n",
    "        X_train, X_test, y_train, y_test = train_test_split(X, y, test_size=split_size, random_state=i)\n",
    "        cnb = Complement_NaiveBayes(X_train, X_test)\n",
    "        cnb.count_attributes()\n",
    "        cnb.count_class()\n",
    "        cnb.count_prior()\n",
    "        cnb.count_class_attributes()\n",
    "        cnb.predict_complement_naive(1)\n",
    "        cnb_res_list.append(cal_accuracy(cnb.predict_label_cnb, y_test.values))\n",
    "    return np.mean(cnb_res_list), np.var(cnb_res_list)\n",
    "        "
   ]
  },
  {
   "cell_type": "code",
   "execution_count": 16,
   "metadata": {},
   "outputs": [
    {
     "name": "stdout",
     "output_type": "stream",
     "text": [
      "The accuracy of Complement NB is 0.9605 and the variance is 4.8916666666666726e-05\n"
     ]
    }
   ],
   "source": [
    "print('The accuracy of Complement NB is %s and the variance is %s'%ten_CV_cnb(df))"
   ]
  },
  {
   "cell_type": "markdown",
   "metadata": {},
   "source": [
    "#### TCNB"
   ]
  },
  {
   "cell_type": "code",
   "execution_count": 17,
   "metadata": {},
   "outputs": [],
   "source": [
    "def ten_CV_tcnb(df, split_size= 0.3, num_times = 10, num_folds=10):\n",
    "    X, y = df,df['class']\n",
    "    tcnb_res_list = []\n",
    "    random_seeds = [int(x) for x in np.random.uniform(0, 10000, num_times)]\n",
    "    for i in random_seeds:\n",
    "        X_train, X_test, y_train, y_test = train_test_split(X, y, test_size=split_size, random_state=i)\n",
    "        tcnb = Transfer_Complement_NaiveBayes(X_train, X_test)\n",
    "        tcnb.transfer_docfre_count_()\n",
    "\n",
    "        tcnb.count_class()\n",
    "        tcnb.count_prior()\n",
    "        tcnb.count_class_attributes()\n",
    "        tcnb.predict_complement_naive(1)\n",
    "        tcnb_res_list.append(cal_accuracy(tcnb.predict_label_cnb, y_test.values))\n",
    "    return np.mean(tcnb_res_list), np.var(tcnb_res_list)\n",
    "        "
   ]
  },
  {
   "cell_type": "code",
   "execution_count": 18,
   "metadata": {},
   "outputs": [
    {
     "name": "stdout",
     "output_type": "stream",
     "text": [
      "The accuracy of Transfer Complement NB is 0.9658333333333333 and the variance is 1.444444444444439e-05\n"
     ]
    }
   ],
   "source": [
    "print('The accuracy of Transfer Complement NB is %s and the variance is %s'%ten_CV_tcnb(df))"
   ]
  },
  {
   "cell_type": "markdown",
   "metadata": {},
   "source": [
    "## Save the result to .csv file"
   ]
  },
  {
   "cell_type": "code",
   "execution_count": 19,
   "metadata": {},
   "outputs": [],
   "source": [
    "import copy\n",
    "tcnb = Transfer_Complement_NaiveBayes(df, new_df)\n",
    "tcnb.transfer_docfre_count_()\n",
    "tcnb.count_class()\n",
    "tcnb.count_prior()\n",
    "tcnb.count_class_attributes()\n",
    "tcnb.predict_complement_naive(1)\n",
    "new_df['class'] = tcnb.predict_label_cnb\n",
    "result_df_simple = copy.deepcopy(new_df)\n",
    "#result_df_simple.drop([\"abstract\"], axis = 1).drop(['clean'], axis = 1).to_csv(\"../data/tst_kaggle3_transfer_complement_tran.csv\")"
   ]
  },
  {
   "cell_type": "code",
   "execution_count": 29,
   "metadata": {},
   "outputs": [
    {
     "data": {
      "text/plain": [
       "4618006"
      ]
     },
     "execution_count": 29,
     "metadata": {},
     "output_type": "execute_result"
    }
   ],
   "source": [
    "sum(np.array(list(cnb.count_class.values()))**2)"
   ]
  },
  {
   "cell_type": "code",
   "execution_count": 44,
   "metadata": {},
   "outputs": [
    {
     "data": {
      "text/plain": [
       "list"
      ]
     },
     "execution_count": 44,
     "metadata": {},
     "output_type": "execute_result"
    }
   ],
   "source": [
    "type(list(cnb.count_class.values()))"
   ]
  },
  {
   "cell_type": "code",
   "execution_count": 55,
   "metadata": {},
   "outputs": [
    {
     "data": {
      "text/plain": [
       "13321.003753471432"
      ]
     },
     "execution_count": 55,
     "metadata": {},
     "output_type": "execute_result"
    }
   ],
   "source": [
    "math.sqrt(sum(np.array((list(dict(cnb.count_attributes).values())))**2))"
   ]
  },
  {
   "cell_type": "code",
   "execution_count": null,
   "metadata": {},
   "outputs": [],
   "source": []
  }
 ],
 "metadata": {
  "kernelspec": {
   "display_name": "Python 3",
   "language": "python",
   "name": "python3"
  },
  "language_info": {
   "codemirror_mode": {
    "name": "ipython",
    "version": 3
   },
   "file_extension": ".py",
   "mimetype": "text/x-python",
   "name": "python",
   "nbconvert_exporter": "python",
   "pygments_lexer": "ipython3",
   "version": "3.6.4"
  }
 },
 "nbformat": 4,
 "nbformat_minor": 2
}
